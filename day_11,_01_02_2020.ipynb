{
  "nbformat": 4,
  "nbformat_minor": 0,
  "metadata": {
    "colab": {
      "name": "day 11, 01-02-2020.ipynb",
      "provenance": [],
      "authorship_tag": "ABX9TyO7YsB5YLPEUt0GR9Lh/35E",
      "include_colab_link": true
    },
    "kernelspec": {
      "name": "python3",
      "display_name": "Python 3"
    }
  },
  "cells": [
    {
      "cell_type": "markdown",
      "metadata": {
        "id": "view-in-github",
        "colab_type": "text"
      },
      "source": [
        "<a href=\"https://colab.research.google.com/github/Badrivenkat845/jntua/blob/master/day_11%2C_01_02_2020.ipynb\" target=\"_parent\"><img src=\"https://colab.research.google.com/assets/colab-badge.svg\" alt=\"Open In Colab\"/></a>"
      ]
    },
    {
      "cell_type": "code",
      "metadata": {
        "id": "FLwp07l64gii",
        "colab_type": "code",
        "colab": {}
      },
      "source": [
        "# TUPLE\n"
      ],
      "execution_count": 0,
      "outputs": []
    },
    {
      "cell_type": "markdown",
      "metadata": {
        "id": "glbR3D6560JJ",
        "colab_type": "text"
      },
      "source": [
        "# TUPLE\n",
        "- parenthesis()-->Tuple, square brackets[]-->List\n",
        "- difference between list and tuple\n",
        "     - list is mutable (can be changed)\n",
        "     - list is used to access,modify,add,delete\n",
        "     - tuple is immutable(cannot be changed)\n",
        "     - used to access the data"
      ]
    },
    {
      "cell_type": "code",
      "metadata": {
        "id": "noLHyDVB_-mn",
        "colab_type": "code",
        "colab": {
          "base_uri": "https://localhost:8080/",
          "height": 51
        },
        "outputId": "e516e860-b680-4e76-a0f0-6b09b6cbc28e"
      },
      "source": [
        "t1=(1,2,3,4,5,6,7)\n",
        "t2=(44,45,46,48)\n",
        "print(t1,type(t1))\n",
        "print(t2,type(t2))"
      ],
      "execution_count": 2,
      "outputs": [
        {
          "output_type": "stream",
          "text": [
            "(1, 2, 3, 4, 5, 6, 7) <class 'tuple'>\n",
            "(44, 45, 46, 48) <class 'tuple'>\n"
          ],
          "name": "stdout"
        }
      ]
    },
    {
      "cell_type": "code",
      "metadata": {
        "id": "SGDUqstNAcki",
        "colab_type": "code",
        "colab": {}
      },
      "source": [
        ""
      ],
      "execution_count": 0,
      "outputs": []
    },
    {
      "cell_type": "markdown",
      "metadata": {
        "id": "eooghoZ5A29a",
        "colab_type": "text"
      },
      "source": [
        "# DICTIONARIES\n",
        "1) It works on concept of unique set data\n",
        "2) keys,values are the unique identifiers for a value\n",
        "3) Each key is separated from its values with colon (:)\n",
        "4) Each key and value is separated by comma(,)\n",
        "5) Dictionaries are enclosed by curly brackets{}\n"
      ]
    },
    {
      "cell_type": "code",
      "metadata": {
        "id": "c-2qb3dmB8Hm",
        "colab_type": "code",
        "colab": {
          "base_uri": "https://localhost:8080/",
          "height": 34
        },
        "outputId": "3cdf3392-162b-4154-d584-712e9eb9ad40"
      },
      "source": [
        "d1 = {\"name\":\"jntua\",\"emailid\":\"jntua@gmail.com\",\"address\":\"Anantapur\"}\n",
        "d1"
      ],
      "execution_count": 4,
      "outputs": [
        {
          "output_type": "execute_result",
          "data": {
            "text/plain": [
              "{'address': 'Anantapur', 'emailid': 'jntua@gmail.com', 'name': 'jntua'}"
            ]
          },
          "metadata": {
            "tags": []
          },
          "execution_count": 4
        }
      ]
    },
    {
      "cell_type": "code",
      "metadata": {
        "id": "YAenfX4bDLwf",
        "colab_type": "code",
        "colab": {
          "base_uri": "https://localhost:8080/",
          "height": 34
        },
        "outputId": "1a30094e-3a31-4ce5-89e0-401654febdd3"
      },
      "source": [
        "d1.keys()"
      ],
      "execution_count": 5,
      "outputs": [
        {
          "output_type": "execute_result",
          "data": {
            "text/plain": [
              "dict_keys(['name', 'emailid', 'address'])"
            ]
          },
          "metadata": {
            "tags": []
          },
          "execution_count": 5
        }
      ]
    },
    {
      "cell_type": "code",
      "metadata": {
        "id": "wqQQ8j2_EZNe",
        "colab_type": "code",
        "colab": {
          "base_uri": "https://localhost:8080/",
          "height": 34
        },
        "outputId": "e0a99462-8721-4f95-dfcd-92ce12990d1a"
      },
      "source": [
        "d1.values()"
      ],
      "execution_count": 6,
      "outputs": [
        {
          "output_type": "execute_result",
          "data": {
            "text/plain": [
              "dict_values(['jntua', 'jntua@gmail.com', 'Anantapur'])"
            ]
          },
          "metadata": {
            "tags": []
          },
          "execution_count": 6
        }
      ]
    },
    {
      "cell_type": "code",
      "metadata": {
        "id": "cFf-K8WGEc5e",
        "colab_type": "code",
        "colab": {
          "base_uri": "https://localhost:8080/",
          "height": 34
        },
        "outputId": "61933813-ecd8-4957-e7c2-914055078409"
      },
      "source": [
        "d1[\"name\"]"
      ],
      "execution_count": 8,
      "outputs": [
        {
          "output_type": "execute_result",
          "data": {
            "text/plain": [
              "'jntua'"
            ]
          },
          "metadata": {
            "tags": []
          },
          "execution_count": 8
        }
      ]
    },
    {
      "cell_type": "code",
      "metadata": {
        "id": "2e4O4c50Ezfu",
        "colab_type": "code",
        "colab": {
          "base_uri": "https://localhost:8080/",
          "height": 34
        },
        "outputId": "3d5a23d8-33e4-4411-edd3-c057eb243d3e"
      },
      "source": [
        "d1 = {\"name\":\"jntua\",\"emailid\":\"jntua@gmail.com\",\"address\":\"Anantapur\"}\n",
        "d1[\"emailid\"] = \"badri@gmail.com\"\n",
        "print(d1)"
      ],
      "execution_count": 12,
      "outputs": [
        {
          "output_type": "stream",
          "text": [
            "{'name': 'jntua', 'emailid': 'badri@gmail.com', 'address': 'Anantapur'}\n"
          ],
          "name": "stdout"
        }
      ]
    },
    {
      "cell_type": "code",
      "metadata": {
        "id": "2jQYTTbGFX1P",
        "colab_type": "code",
        "colab": {
          "base_uri": "https://localhost:8080/",
          "height": 34
        },
        "outputId": "a2c70c44-14f2-43eb-d2a1-cdc1525ffb79"
      },
      "source": [
        "d1[\"courses\"] = \"python\"\n",
        "print(d1)"
      ],
      "execution_count": 13,
      "outputs": [
        {
          "output_type": "stream",
          "text": [
            "{'name': 'jntua', 'emailid': 'badri@gmail.com', 'address': 'Anantapur', 'courses': 'python'}\n"
          ],
          "name": "stdout"
        }
      ]
    },
    {
      "cell_type": "code",
      "metadata": {
        "id": "7DpXbEMsGM2d",
        "colab_type": "code",
        "colab": {
          "base_uri": "https://localhost:8080/",
          "height": 34
        },
        "outputId": "248177e0-677a-4d8f-ce01-b452f8b49ac3"
      },
      "source": [
        "del d1[\"emailid\"]\n",
        "print (d1)"
      ],
      "execution_count": 14,
      "outputs": [
        {
          "output_type": "stream",
          "text": [
            "{'name': 'jntua', 'address': 'Anantapur', 'courses': 'python'}\n"
          ],
          "name": "stdout"
        }
      ]
    },
    {
      "cell_type": "code",
      "metadata": {
        "id": "9nm_3DI1Gnou",
        "colab_type": "code",
        "colab": {}
      },
      "source": [
        ""
      ],
      "execution_count": 0,
      "outputs": []
    },
    {
      "cell_type": "markdown",
      "metadata": {
        "id": "F62P09FQG-p1",
        "colab_type": "text"
      },
      "source": [
        "# strings:\n"
      ]
    },
    {
      "cell_type": "code",
      "metadata": {
        "id": "JHegNf21HTJw",
        "colab_type": "code",
        "colab": {
          "base_uri": "https://localhost:8080/",
          "height": 34
        },
        "outputId": "7a459730-481f-4b60-cabd-b5bf85f7f459"
      },
      "source": [
        "s1= \"badri\"\n",
        "print(s1,type(s1))"
      ],
      "execution_count": 16,
      "outputs": [
        {
          "output_type": "stream",
          "text": [
            "badri <class 'str'>\n"
          ],
          "name": "stdout"
        }
      ]
    },
    {
      "cell_type": "code",
      "metadata": {
        "id": "4B4nAvsOHXqf",
        "colab_type": "code",
        "colab": {
          "base_uri": "https://localhost:8080/",
          "height": 51
        },
        "outputId": "189d4536-a21f-4a17-f706-505df5fcd3cc"
      },
      "source": [
        "print(s1[-1])\n",
        "print(s1[2:])"
      ],
      "execution_count": 18,
      "outputs": [
        {
          "output_type": "stream",
          "text": [
            "i\n",
            "dri\n"
          ],
          "name": "stdout"
        }
      ]
    },
    {
      "cell_type": "code",
      "metadata": {
        "id": "SUXnSUXHH0ke",
        "colab_type": "code",
        "colab": {
          "base_uri": "https://localhost:8080/",
          "height": 34
        },
        "outputId": "d53fd95b-875e-423c-94db-86ab5fdb02bc"
      },
      "source": [
        "s1=\"python\"\n",
        "print(s1[1:-1])"
      ],
      "execution_count": 22,
      "outputs": [
        {
          "output_type": "stream",
          "text": [
            "ytho\n"
          ],
          "name": "stdout"
        }
      ]
    },
    {
      "cell_type": "code",
      "metadata": {
        "id": "2aVPhCcWIsf-",
        "colab_type": "code",
        "colab": {
          "base_uri": "https://localhost:8080/",
          "height": 34
        },
        "outputId": "2e81674e-daf6-4b4e-a21e-95e4b2dff5dd"
      },
      "source": [
        "s1=\"python\"\n",
        "print(s1[::-1])"
      ],
      "execution_count": 30,
      "outputs": [
        {
          "output_type": "stream",
          "text": [
            "nohtyp\n"
          ],
          "name": "stdout"
        }
      ]
    },
    {
      "cell_type": "code",
      "metadata": {
        "id": "1p84ZuyqJWQe",
        "colab_type": "code",
        "colab": {
          "base_uri": "https://localhost:8080/",
          "height": 34
        },
        "outputId": "70bbe854-b4b3-4021-d85f-2486dc621240"
      },
      "source": [
        "print(s1[-1::-1])"
      ],
      "execution_count": 33,
      "outputs": [
        {
          "output_type": "stream",
          "text": [
            "nohtyp\n"
          ],
          "name": "stdout"
        }
      ]
    },
    {
      "cell_type": "code",
      "metadata": {
        "id": "52EZXn87KJjV",
        "colab_type": "code",
        "colab": {
          "base_uri": "https://localhost:8080/",
          "height": 34
        },
        "outputId": "1ecfb1fd-a4a5-4b03-eb5d-9aa734412b63"
      },
      "source": [
        "# MIDDLE ELEMENT OF STRING\n",
        "s1=\"python\"\n",
        "print(s1[(len(s1)//2)])"
      ],
      "execution_count": 37,
      "outputs": [
        {
          "output_type": "stream",
          "text": [
            "h\n"
          ],
          "name": "stdout"
        }
      ]
    },
    {
      "cell_type": "code",
      "metadata": {
        "id": "Fc642ptPKqJP",
        "colab_type": "code",
        "colab": {
          "base_uri": "https://localhost:8080/",
          "height": 34
        },
        "outputId": "5928d69c-3f1c-4766-e53e-4e550eb31b7d"
      },
      "source": [
        "print(s1[-1:-5:-1])"
      ],
      "execution_count": 42,
      "outputs": [
        {
          "output_type": "stream",
          "text": [
            "noht\n"
          ],
          "name": "stdout"
        }
      ]
    },
    {
      "cell_type": "code",
      "metadata": {
        "id": "3yUBbc6zNINj",
        "colab_type": "code",
        "colab": {}
      },
      "source": [
        "# REVERSING OF STRING USING FUNCTION\n",
        "def reversestring(str)\n",
        ".............\n",
        "reversestring (\"python\")"
      ],
      "execution_count": 0,
      "outputs": []
    },
    {
      "cell_type": "code",
      "metadata": {
        "id": "FcZOhP9LOuQS",
        "colab_type": "code",
        "colab": {
          "base_uri": "https://localhost:8080/",
          "height": 34
        },
        "outputId": "2154fc14-73c2-496b-eb08-a7c717c3d2d0"
      },
      "source": [
        "def reversestring(str):\n",
        " print(s1[::-1])\n",
        "reversestring(\"python\")\n"
      ],
      "execution_count": 53,
      "outputs": [
        {
          "output_type": "stream",
          "text": [
            "nohtyp\n"
          ],
          "name": "stdout"
        }
      ]
    },
    {
      "cell_type": "code",
      "metadata": {
        "id": "R92Z7gJWPCPJ",
        "colab_type": "code",
        "colab": {
          "base_uri": "https://localhost:8080/",
          "height": 51
        },
        "outputId": "b3a99c93-49a4-4413-d2a3-4bf6ffeaa3e8"
      },
      "source": [
        "# check given string is a palindrome or not\n",
        "s=input(\"enter a string\")  \n",
        "if s==s[::-1]:\n",
        "  print(s,\"is a palindrome\")\n",
        "else:\n",
        "  print(\"not a palindrome\")"
      ],
      "execution_count": 65,
      "outputs": [
        {
          "output_type": "stream",
          "text": [
            "enter a stringradar\n",
            "radar is a palindrome\n"
          ],
          "name": "stdout"
        }
      ]
    },
    {
      "cell_type": "code",
      "metadata": {
        "id": "vZp0z44GSnRa",
        "colab_type": "code",
        "colab": {}
      },
      "source": [
        ""
      ],
      "execution_count": 0,
      "outputs": []
    }
  ]
}