{
  "nbformat": 4,
  "nbformat_minor": 0,
  "metadata": {
    "colab": {
      "name": "DAY 10(31-01-2020).ipynb",
      "provenance": [],
      "authorship_tag": "ABX9TyOm1jxRlm2KyrUIQSlKG3f3",
      "include_colab_link": true
    },
    "kernelspec": {
      "name": "python3",
      "display_name": "Python 3"
    }
  },
  "cells": [
    {
      "cell_type": "markdown",
      "metadata": {
        "id": "view-in-github",
        "colab_type": "text"
      },
      "source": [
        "<a href=\"https://colab.research.google.com/github/Badrivenkat845/jntua/blob/master/DAY_10(31_01_2020).ipynb\" target=\"_parent\"><img src=\"https://colab.research.google.com/assets/colab-badge.svg\" alt=\"Open In Colab\"/></a>"
      ]
    },
    {
      "cell_type": "code",
      "metadata": {
        "id": "bjsjIDdQwpvP",
        "colab_type": "code",
        "colab": {}
      },
      "source": [
        "\n"
      ],
      "execution_count": 0,
      "outputs": []
    },
    {
      "cell_type": "markdown",
      "metadata": {
        "id": "NQtb7Ul3xQtB",
        "colab_type": "text"
      },
      "source": [
        "# LOOPS\n",
        "- WHILE LOOP\n",
        "- FOR LOOP"
      ]
    },
    {
      "cell_type": "markdown",
      "metadata": {
        "id": "2BLlTnP0xPy-",
        "colab_type": "text"
      },
      "source": [
        ""
      ]
    },
    {
      "cell_type": "code",
      "metadata": {
        "id": "301nGDINxYkw",
        "colab_type": "code",
        "colab": {
          "base_uri": "https://localhost:8080/",
          "height": 51
        },
        "outputId": "31d8ab8b-3c6e-4b35-a3b1-c045146e80b2"
      },
      "source": [
        "# PRINT NUMBERS FROM 1 TO N\n",
        "n= int(input(\"enter a given number:\"))\n",
        "i=1\n",
        "while i <=n :\n",
        "  print(i, end=\" \")\n",
        "  i=i+1"
      ],
      "execution_count": 1,
      "outputs": [
        {
          "output_type": "stream",
          "text": [
            "enter a given number:20\n",
            "1 2 3 4 5 6 7 8 9 10 11 12 13 14 15 16 17 18 19 20 "
          ],
          "name": "stdout"
        }
      ]
    },
    {
      "cell_type": "markdown",
      "metadata": {
        "id": "8ucvvNfPzE37",
        "colab_type": "text"
      },
      "source": [
        "#PRINT THE SUM OF EVEN NUMBERS"
      ]
    },
    {
      "cell_type": "code",
      "metadata": {
        "id": "qxGvEpZVyyRp",
        "colab_type": "code",
        "colab": {
          "base_uri": "https://localhost:8080/",
          "height": 51
        },
        "outputId": "732d71fb-46ec-49cb-915b-b17f591e28c8"
      },
      "source": [
        "n= int(input(\"enter a given number:\"))\n",
        "i=2\n",
        "sum=0\n",
        "while i<=n :\n",
        "  sum = sum+i\n",
        "  i=i+2\n",
        "print(sum)\n",
        "  \n"
      ],
      "execution_count": 22,
      "outputs": [
        {
          "output_type": "stream",
          "text": [
            "enter a given number:12\n",
            "42\n"
          ],
          "name": "stdout"
        }
      ]
    },
    {
      "cell_type": "markdown",
      "metadata": {
        "id": "R47zFmeL4ktC",
        "colab_type": "text"
      },
      "source": [
        "# PRINT THE PALINDROME NUMBER\n",
        "#input 123\n",
        "#output 321"
      ]
    },
    {
      "cell_type": "code",
      "metadata": {
        "id": "_NPmXM052c-4",
        "colab_type": "code",
        "colab": {
          "base_uri": "https://localhost:8080/",
          "height": 51
        },
        "outputId": "e02ae5b1-a6a8-45a0-d55f-34917ff56a20"
      },
      "source": [
        "n=int(input(\"enter a given number:\"))\n",
        "i=n\n",
        "rem=0\n",
        "num=0\n",
        "while n>0:\n",
        "  rem=n%10\n",
        "  num=num*10+rem\n",
        "  n=n//10\n",
        "print(num)"
      ],
      "execution_count": 21,
      "outputs": [
        {
          "output_type": "stream",
          "text": [
            "enter a given number:845\n",
            "548\n"
          ],
          "name": "stdout"
        }
      ]
    },
    {
      "cell_type": "markdown",
      "metadata": {
        "id": "-QZNW9H280nC",
        "colab_type": "text"
      },
      "source": [
        "#functional programming\n",
        "- simple\n",
        "- easy to understand\n",
        "- better reuseability\n",
        "- lengthy program will be subdivided into subprograms"
      ]
    },
    {
      "cell_type": "code",
      "metadata": {
        "id": "y8B0hGc27jC9",
        "colab_type": "code",
        "colab": {}
      },
      "source": [
        "def nameofthefunction (<parameter>)\n",
        "statements\n",
        "return\n"
      ],
      "execution_count": 0,
      "outputs": []
    },
    {
      "cell_type": "code",
      "metadata": {
        "id": "LBsrR2K8-Mo5",
        "colab_type": "code",
        "colab": {
          "base_uri": "https://localhost:8080/",
          "height": 34
        },
        "outputId": "6e76aa2c-14af-437c-a3b8-29e68c0cfcf4"
      },
      "source": [
        "# PRINT SUM OF EVEN NUMBERS IN A GIVEN NUMBER\n",
        "def sumofevendigits(n) :\n",
        "  s = 0\n",
        "  while n!= 0 :\n",
        "    r= n%10\n",
        "    if r%2==0:\n",
        "      s=s+r\n",
        "    n=n//10\n",
        "  return s\n",
        "sumofevendigits(1234)"
      ],
      "execution_count": 39,
      "outputs": [
        {
          "output_type": "execute_result",
          "data": {
            "text/plain": [
              "6"
            ]
          },
          "metadata": {
            "tags": []
          },
          "execution_count": 39
        }
      ]
    },
    {
      "cell_type": "code",
      "metadata": {
        "id": "sTyeYXJxB8PN",
        "colab_type": "code",
        "colab": {}
      },
      "source": [
        ""
      ],
      "execution_count": 0,
      "outputs": []
    },
    {
      "cell_type": "markdown",
      "metadata": {
        "id": "D7yIIcVBEVIG",
        "colab_type": "text"
      },
      "source": [
        "# find the largest digit in a given number \n"
      ]
    },
    {
      "cell_type": "code",
      "metadata": {
        "id": "HpaH2bP8EqwY",
        "colab_type": "code",
        "colab": {
          "base_uri": "https://localhost:8080/",
          "height": 34
        },
        "outputId": "6f9486fd-e455-4ba5-d763-972e07cc0a7e"
      },
      "source": [
        "def large(n):\n",
        "  prev=0\n",
        "  next=0\n",
        "  while (n!=0) :\n",
        "    prev=next\n",
        "    next=n%10\n",
        "    if(prev>next):\n",
        "      next=prev\n",
        "    n=n//10\n",
        "  return next\n",
        "large(12345)\n",
        "\n"
      ],
      "execution_count": 47,
      "outputs": [
        {
          "output_type": "execute_result",
          "data": {
            "text/plain": [
              "5"
            ]
          },
          "metadata": {
            "tags": []
          },
          "execution_count": 47
        }
      ]
    },
    {
      "cell_type": "code",
      "metadata": {
        "id": "fZHGPZBzFwVn",
        "colab_type": "code",
        "colab": {}
      },
      "source": [
        ""
      ],
      "execution_count": 0,
      "outputs": []
    },
    {
      "cell_type": "markdown",
      "metadata": {
        "id": "ortvqcg8IM9X",
        "colab_type": "text"
      },
      "source": [
        "# for loop\n",
        " "
      ]
    },
    {
      "cell_type": "code",
      "metadata": {
        "id": "jkN0KhOLIkq2",
        "colab_type": "code",
        "colab": {}
      },
      "source": [
        "# syntax\n",
        "for in range(start,stop,step):\n",
        "statements"
      ],
      "execution_count": 0,
      "outputs": []
    },
    {
      "cell_type": "markdown",
      "metadata": {
        "id": "GfENlP2aI4CT",
        "colab_type": "text"
      },
      "source": [
        "# BY USING FUNCTION PRINT THE NUMBERS BETWEEN THE TWO GIVEN NUMBERS\n"
      ]
    },
    {
      "cell_type": "code",
      "metadata": {
        "id": "vaxDARjbJNeK",
        "colab_type": "code",
        "colab": {
          "base_uri": "https://localhost:8080/",
          "height": 34
        },
        "outputId": "be90025e-35d2-403a-9026-41ad6cf6719a"
      },
      "source": [
        "def printseries(fn,ln):\n",
        "  for i in range(fn,ln+1):\n",
        "    print(i, end=\" \")\n",
        "  return\n",
        "printseries(11,25)\n",
        "\n"
      ],
      "execution_count": 54,
      "outputs": [
        {
          "output_type": "stream",
          "text": [
            "11 12 13 14 15 16 17 18 19 20 21 22 23 24 25 "
          ],
          "name": "stdout"
        }
      ]
    },
    {
      "cell_type": "code",
      "metadata": {
        "id": "wgixoOFWKste",
        "colab_type": "code",
        "colab": {
          "base_uri": "https://localhost:8080/",
          "height": 34
        },
        "outputId": "de9e3ff4-7a61-44fc-a623-6732bbbd0918"
      },
      "source": [
        "def printseries(fn,ln):\n",
        "  for i in range(fn,ln+1,4):\n",
        "    print(i,end=\" \")\n",
        "  return\n",
        "printseries(500,521)"
      ],
      "execution_count": 64,
      "outputs": [
        {
          "output_type": "stream",
          "text": [
            "500 504 508 512 516 520 "
          ],
          "name": "stdout"
        }
      ]
    },
    {
      "cell_type": "code",
      "metadata": {
        "id": "qQQFIgd8LYDe",
        "colab_type": "code",
        "colab": {}
      },
      "source": [
        ""
      ],
      "execution_count": 0,
      "outputs": []
    },
    {
      "cell_type": "markdown",
      "metadata": {
        "id": "aUEgKf-gMxMP",
        "colab_type": "text"
      },
      "source": [
        "#COLLECTION TYPES\n",
        "- LIST\n",
        "-TUPLE\n",
        "-DICTIONARY"
      ]
    },
    {
      "cell_type": "markdown",
      "metadata": {
        "id": "TKi1gN7eNDGK",
        "colab_type": "text"
      },
      "source": [
        "#list:\n",
        "- one of the data structures in python\n",
        "- Data structure means to store , sort and search options\n",
        "- it is one common data structure in python , the items of list are seperated by commas and enclosed by square brackets.\n",
        "-in list values can be changed\n",
        "- ex:\n",
        "- list1=[1,2,3,4,5]\n",
        "-list=[\"jntua\", \"DASD\", \"asds\"]"
      ]
    },
    {
      "cell_type": "code",
      "metadata": {
        "id": "AC2ja8rDOkBt",
        "colab_type": "code",
        "colab": {
          "base_uri": "https://localhost:8080/",
          "height": 51
        },
        "outputId": "873d5fd3-f2e5-46f7-c942-f48a7ec7d21e"
      },
      "source": [
        "li=[1,4,3,2]\n",
        "print(li)\n",
        "print(li[2:])"
      ],
      "execution_count": 76,
      "outputs": [
        {
          "output_type": "stream",
          "text": [
            "[1, 4, 3, 2]\n",
            "[3, 2]\n"
          ],
          "name": "stdout"
        }
      ]
    },
    {
      "cell_type": "code",
      "metadata": {
        "id": "MM2qRoFkO1U4",
        "colab_type": "code",
        "colab": {
          "base_uri": "https://localhost:8080/",
          "height": 34
        },
        "outputId": "1b1c5eba-8a36-45c5-cf74-b64fbc233cc5"
      },
      "source": [
        "print(li[2])"
      ],
      "execution_count": 66,
      "outputs": [
        {
          "output_type": "stream",
          "text": [
            "3\n"
          ],
          "name": "stdout"
        }
      ]
    },
    {
      "cell_type": "code",
      "metadata": {
        "id": "Ml6SZJFJP_YH",
        "colab_type": "code",
        "colab": {
          "base_uri": "https://localhost:8080/",
          "height": 34
        },
        "outputId": "23b1aa6e-0885-4415-c1c4-d43873ddc6a5"
      },
      "source": [
        "print(li[-2])\n",
        "\n"
      ],
      "execution_count": 73,
      "outputs": [
        {
          "output_type": "stream",
          "text": [
            "3\n"
          ],
          "name": "stdout"
        }
      ]
    },
    {
      "cell_type": "code",
      "metadata": {
        "id": "kBYhbiRaQEOF",
        "colab_type": "code",
        "colab": {
          "base_uri": "https://localhost:8080/",
          "height": 34
        },
        "outputId": "fdaa4a6d-d38b-422f-cd92-d834995aee22"
      },
      "source": [
        "print(li[-2:])"
      ],
      "execution_count": 78,
      "outputs": [
        {
          "output_type": "stream",
          "text": [
            "[3, 2]\n"
          ],
          "name": "stdout"
        }
      ]
    },
    {
      "cell_type": "code",
      "metadata": {
        "id": "O4tykOBAQOLn",
        "colab_type": "code",
        "colab": {
          "base_uri": "https://localhost:8080/",
          "height": 34
        },
        "outputId": "c8c516fa-03bd-4219-d45e-372fe5e64b8f"
      },
      "source": [
        "print(li[::2])"
      ],
      "execution_count": 80,
      "outputs": [
        {
          "output_type": "stream",
          "text": [
            "[1, 3]\n"
          ],
          "name": "stdout"
        }
      ]
    },
    {
      "cell_type": "code",
      "metadata": {
        "id": "X7O4z9pEa8i-",
        "colab_type": "code",
        "colab": {
          "base_uri": "https://localhost:8080/",
          "height": 51
        },
        "outputId": "40472fbc-f00c-4510-8322-9bf4a24a1a85"
      },
      "source": [
        "# UPDATE LIST\n",
        "li=[\"jntua\",\"3\",\"BADRI\",\"845\"]\n",
        "print(li)\n",
        "li[1]=\"100\"\n",
        "print(li)"
      ],
      "execution_count": 81,
      "outputs": [
        {
          "output_type": "stream",
          "text": [
            "['jntua', '3', 'BADRI', '845']\n",
            "['jntua', '100', 'BADRI', '845']\n"
          ],
          "name": "stdout"
        }
      ]
    },
    {
      "cell_type": "code",
      "metadata": {
        "id": "n1KG7e3WcBGW",
        "colab_type": "code",
        "colab": {
          "base_uri": "https://localhost:8080/",
          "height": 34
        },
        "outputId": "1d7aa088-d27f-452a-dce8-b3fc9ace0c93"
      },
      "source": [
        "# DELETE LIST ITEM\n",
        "del li[2]\n",
        "print(li)"
      ],
      "execution_count": 84,
      "outputs": [
        {
          "output_type": "stream",
          "text": [
            "['jntua', '100']\n"
          ],
          "name": "stdout"
        }
      ]
    },
    {
      "cell_type": "code",
      "metadata": {
        "id": "QAZPOLKJcQN1",
        "colab_type": "code",
        "colab": {
          "base_uri": "https://localhost:8080/",
          "height": 68
        },
        "outputId": "314dd74b-96c1-4aad-83bf-d790ae5cd0c8"
      },
      "source": [
        "# BASIC LIST OPERATIONS\n",
        "li=[1,2,3,4,5]\n",
        "print(li*2)\n",
        "print(4 in li)\n",
        "print(7 in li )"
      ],
      "execution_count": 88,
      "outputs": [
        {
          "output_type": "stream",
          "text": [
            "[1, 2, 3, 4, 5, 1, 2, 3, 4, 5]\n",
            "True\n",
            "False\n"
          ],
          "name": "stdout"
        }
      ]
    },
    {
      "cell_type": "code",
      "metadata": {
        "id": "JpK1RH-HdIfH",
        "colab_type": "code",
        "colab": {}
      },
      "source": [
        "# LIST FUNCTIONS\n"
      ],
      "execution_count": 0,
      "outputs": []
    },
    {
      "cell_type": "markdown",
      "metadata": {
        "id": "NFvqPAVid1Ct",
        "colab_type": "text"
      },
      "source": [
        "# LIST FUNCTIONS\n",
        "- MAX\n",
        "- MIN\n",
        "- SUM\n",
        "- APPEND\n",
        "- INSERT\n",
        "- COUNT\n",
        "- INDEX\n",
        "- SORT\n",
        "- POP\n"
      ]
    },
    {
      "cell_type": "code",
      "metadata": {
        "id": "X01JwfJVeJaY",
        "colab_type": "code",
        "colab": {}
      },
      "source": [
        "li=[1,2,3,4,5]\n",
        "print(max(li))\n",
        "print(min(li))\n",
        "print(sum(li))"
      ],
      "execution_count": 0,
      "outputs": []
    },
    {
      "cell_type": "code",
      "metadata": {
        "id": "PvQb1G5bfQla",
        "colab_type": "code",
        "colab": {}
      },
      "source": [
        ""
      ],
      "execution_count": 0,
      "outputs": []
    }
  ]
}