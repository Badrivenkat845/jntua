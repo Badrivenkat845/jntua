{
  "nbformat": 4,
  "nbformat_minor": 0,
  "metadata": {
    "colab": {
      "name": "day 09(30-01-2020).ipynb",
      "provenance": [],
      "authorship_tag": "ABX9TyMBcGBnITIk2v2bA561j5KM",
      "include_colab_link": true
    },
    "kernelspec": {
      "name": "python3",
      "display_name": "Python 3"
    }
  },
  "cells": [
    {
      "cell_type": "markdown",
      "metadata": {
        "id": "view-in-github",
        "colab_type": "text"
      },
      "source": [
        "<a href=\"https://colab.research.google.com/github/Badrivenkat845/jntua/blob/master/day_09(30_01_2020).ipynb\" target=\"_parent\"><img src=\"https://colab.research.google.com/assets/colab-badge.svg\" alt=\"Open In Colab\"/></a>"
      ]
    },
    {
      "cell_type": "code",
      "metadata": {
        "id": "9ASj40N37hCi",
        "colab_type": "code",
        "colab": {}
      },
      "source": [
        ""
      ],
      "execution_count": 0,
      "outputs": []
    },
    {
      "cell_type": "markdown",
      "metadata": {
        "id": "y8O0q7L99WCI",
        "colab_type": "text"
      },
      "source": [
        "***Adding links to markdown***\n",
        "[site]https://www.iitm.ac.in/ "
      ]
    },
    {
      "cell_type": "markdown",
      "metadata": {
        "id": "FtNrg4MbBey4",
        "colab_type": "text"
      },
      "source": [
        ""
      ]
    },
    {
      "cell_type": "code",
      "metadata": {
        "id": "i_PZc3EY9nGp",
        "colab_type": "code",
        "colab": {}
      },
      "source": [
        ""
      ],
      "execution_count": 0,
      "outputs": []
    },
    {
      "cell_type": "markdown",
      "metadata": {
        "id": "4X09pHYYBh2w",
        "colab_type": "text"
      },
      "source": [
        "### inserting image\n",
        "![text](https://img.etimg.com/thumb/width-640,height-480,imgsize-261453,resizemode-1,msid-73155740/iit-madras-alumni-donates-rs-1-crore-for-robotics-research-laboratory.jpg)\n"
      ]
    },
    {
      "cell_type": "markdown",
      "metadata": {
        "id": "Q7L-ThZ2CmEH",
        "colab_type": "text"
      },
      "source": [
        ""
      ]
    },
    {
      "cell_type": "code",
      "metadata": {
        "id": "wzjEKPyhCn84",
        "colab_type": "code",
        "colab": {}
      },
      "source": [
        ""
      ],
      "execution_count": 0,
      "outputs": []
    },
    {
      "cell_type": "markdown",
      "metadata": {
        "id": "9xLsUbg_Colo",
        "colab_type": "text"
      },
      "source": [
        ""
      ]
    },
    {
      "cell_type": "code",
      "metadata": {
        "id": "ZGbGwKiqCo_B",
        "colab_type": "code",
        "colab": {
          "base_uri": "https://localhost:8080/",
          "height": 34
        },
        "outputId": "42e143af-2a9e-444c-e15b-ad64ca61b736"
      },
      "source": [
        "print(\"Hello world!\")"
      ],
      "execution_count": 1,
      "outputs": [
        {
          "output_type": "stream",
          "text": [
            "Hello world!\n"
          ],
          "name": "stdout"
        }
      ]
    },
    {
      "cell_type": "code",
      "metadata": {
        "id": "SWlqeb3sC035",
        "colab_type": "code",
        "colab": {
          "base_uri": "https://localhost:8080/",
          "height": 51
        },
        "outputId": "309f3def-3424-4f70-c8b8-34d68d96c867"
      },
      "source": [
        "#Variable creation\n",
        "print(\"hello , jntua\")\n",
        "print(\"hello , jntua\", \"chemical\",\"cse\")"
      ],
      "execution_count": 3,
      "outputs": [
        {
          "output_type": "stream",
          "text": [
            "hello , jntua\n",
            "hello , jntua chemical cse\n"
          ],
          "name": "stdout"
        }
      ]
    },
    {
      "cell_type": "code",
      "metadata": {
        "id": "gmNg-b5hILI7",
        "colab_type": "code",
        "colab": {}
      },
      "source": [
        ""
      ],
      "execution_count": 0,
      "outputs": []
    },
    {
      "cell_type": "markdown",
      "metadata": {
        "id": "c944yAFMIqnB",
        "colab_type": "text"
      },
      "source": [
        ""
      ]
    },
    {
      "cell_type": "code",
      "metadata": {
        "id": "pim-HJnwIr4v",
        "colab_type": "code",
        "colab": {
          "base_uri": "https://localhost:8080/",
          "height": 68
        },
        "outputId": "3875830c-c572-4bd3-8629-9184a9330425"
      },
      "source": [
        "n1=100 #single variable assignment\n",
        "print(n1)\n",
        "a = b = c = 100 # multi variable assignment\n",
        "print(a,b,c)\n",
        "a1,b1,c1=100,200,300 # multiple variable assignment with different values\n",
        "print(a1,b1,c1)"
      ],
      "execution_count": 7,
      "outputs": [
        {
          "output_type": "stream",
          "text": [
            "100\n",
            "100 100 100\n",
            "100 200 300\n"
          ],
          "name": "stdout"
        }
      ]
    },
    {
      "cell_type": "markdown",
      "metadata": {
        "id": "0JdrwOByK42j",
        "colab_type": "text"
      },
      "source": [
        "Data types and conversions"
      ]
    },
    {
      "cell_type": "code",
      "metadata": {
        "id": "TAqPWHfPK-yI",
        "colab_type": "code",
        "colab": {
          "base_uri": "https://localhost:8080/",
          "height": 34
        },
        "outputId": "189a7683-e953-4f18-bbef-2374f5abe72a"
      },
      "source": [
        "a = 100\n",
        "s1 = 10.2 \n",
        "s2= \"python\"\n",
        "print(type(a),type(s1),type(s2))\n"
      ],
      "execution_count": 9,
      "outputs": [
        {
          "output_type": "stream",
          "text": [
            "<class 'int'> <class 'float'> <class 'str'>\n"
          ],
          "name": "stdout"
        }
      ]
    },
    {
      "cell_type": "code",
      "metadata": {
        "id": "TW0evGzlLgna",
        "colab_type": "code",
        "colab": {
          "base_uri": "https://localhost:8080/",
          "height": 68
        },
        "outputId": "5b1c23a6-db1e-488e-cb0a-7fda93b23482"
      },
      "source": [
        "i = 100\n",
        "print(type(i))\n",
        "s1=str(i)\n",
        "print(type(s1))\n",
        "f1=float(i)\n",
        "print(type(f1))"
      ],
      "execution_count": 11,
      "outputs": [
        {
          "output_type": "stream",
          "text": [
            "<class 'int'>\n",
            "<class 'str'>\n",
            "<class 'float'>\n"
          ],
          "name": "stdout"
        }
      ]
    },
    {
      "cell_type": "markdown",
      "metadata": {
        "id": "exuoWVDhNAeJ",
        "colab_type": "text"
      },
      "source": [
        "#length"
      ]
    },
    {
      "cell_type": "code",
      "metadata": {
        "id": "r2e20VVqNOna",
        "colab_type": "code",
        "colab": {
          "base_uri": "https://localhost:8080/",
          "height": 34
        },
        "outputId": "1702d73a-2d53-4d1e-e72d-a1cccc7249d7"
      },
      "source": [
        "a=123456\n",
        "print(len(str(a)))\n"
      ],
      "execution_count": 12,
      "outputs": [
        {
          "output_type": "stream",
          "text": [
            "6\n"
          ],
          "name": "stdout"
        }
      ]
    },
    {
      "cell_type": "code",
      "metadata": {
        "id": "e1Pkmh_iNZYp",
        "colab_type": "code",
        "colab": {}
      },
      "source": [
        ""
      ],
      "execution_count": 0,
      "outputs": []
    },
    {
      "cell_type": "markdown",
      "metadata": {
        "id": "d8WwYRlYNa3h",
        "colab_type": "text"
      },
      "source": [
        "Reading input from user--input function"
      ]
    },
    {
      "cell_type": "code",
      "metadata": {
        "id": "U7ZMnjvZNiTk",
        "colab_type": "code",
        "colab": {
          "base_uri": "https://localhost:8080/",
          "height": 68
        },
        "outputId": "b3bd5abb-2be7-458e-d6e3-5fee5f431341"
      },
      "source": [
        "a=input(\"enter your name:\")\n",
        "print(a)\n",
        "print(type(a))\n"
      ],
      "execution_count": 13,
      "outputs": [
        {
          "output_type": "stream",
          "text": [
            "enter your name:badri\n",
            "badri\n",
            "<class 'str'>\n"
          ],
          "name": "stdout"
        }
      ]
    },
    {
      "cell_type": "code",
      "metadata": {
        "id": "5t0bSPu5N3X1",
        "colab_type": "code",
        "colab": {
          "base_uri": "https://localhost:8080/",
          "height": 68
        },
        "outputId": "f5d49cc2-b0d2-46fc-ca1d-b950d5ca69f0"
      },
      "source": [
        "b=int(input(\"enter your AGE:\"))\n",
        "print(b)\n",
        "print(type(b))\n"
      ],
      "execution_count": 15,
      "outputs": [
        {
          "output_type": "stream",
          "text": [
            "enter your AGE:20\n",
            "20\n",
            "<class 'int'>\n"
          ],
          "name": "stdout"
        }
      ]
    },
    {
      "cell_type": "markdown",
      "metadata": {
        "id": "WgTej_tXP9fB",
        "colab_type": "text"
      },
      "source": [
        " \n",
        " #operators:\n",
        " Operator is a symbol used to perform a specific kind of operation\n",
        "# Arithmetic operator\n",
        "- +\n",
        "- -\n",
        "-*\n",
        "-/\n",
        "-%\n",
        "-//"
      ]
    },
    {
      "cell_type": "code",
      "metadata": {
        "id": "Jta0QH8SP_qp",
        "colab_type": "code",
        "colab": {
          "base_uri": "https://localhost:8080/",
          "height": 136
        },
        "outputId": "028c4409-91cd-4aa3-d8cc-a22859a25c03"
      },
      "source": [
        "a= 1234\n",
        "print(a+10)\n",
        "print(a-10)\n",
        "print(a*10)\n",
        "print(a/10)\n",
        "print(a%10)\n",
        "print(a//10)\n",
        "print(a**10)"
      ],
      "execution_count": 18,
      "outputs": [
        {
          "output_type": "stream",
          "text": [
            "1244\n",
            "1224\n",
            "12340\n",
            "123.4\n",
            "4\n",
            "123\n",
            "8187505353567209228244052427776\n"
          ],
          "name": "stdout"
        }
      ]
    },
    {
      "cell_type": "code",
      "metadata": {
        "id": "egbFdRgHSIWk",
        "colab_type": "code",
        "colab": {}
      },
      "source": [
        ""
      ],
      "execution_count": 0,
      "outputs": []
    },
    {
      "cell_type": "markdown",
      "metadata": {
        "id": "yyO2BxY6SjxS",
        "colab_type": "text"
      },
      "source": [
        "# relational operators\n",
        "- =\n",
        "- ==\n",
        "- !=\n",
        "- <\n",
        "- >\n",
        "- <=\n",
        "- >="
      ]
    },
    {
      "cell_type": "code",
      "metadata": {
        "id": "N3_T4BTESxTV",
        "colab_type": "code",
        "colab": {
          "base_uri": "https://localhost:8080/",
          "height": 34
        },
        "outputId": "216338cd-3039-4f2a-d856-44138df5c4b6"
      },
      "source": [
        "x=10\n",
        "a1=x>15\n",
        "print(a1)"
      ],
      "execution_count": 22,
      "outputs": [
        {
          "output_type": "stream",
          "text": [
            "False\n"
          ],
          "name": "stdout"
        }
      ]
    },
    {
      "cell_type": "code",
      "metadata": {
        "id": "HCYUQg7zS4g1",
        "colab_type": "code",
        "colab": {}
      },
      "source": [
        ""
      ],
      "execution_count": 0,
      "outputs": []
    },
    {
      "cell_type": "markdown",
      "metadata": {
        "id": "9Sv8QQGZS5iy",
        "colab_type": "text"
      },
      "source": [
        "Logical operators\n",
        "- and\n",
        "- or\n",
        "- not"
      ]
    },
    {
      "cell_type": "code",
      "metadata": {
        "id": "QC5yDSArS8jV",
        "colab_type": "code",
        "colab": {
          "base_uri": "https://localhost:8080/",
          "height": 51
        },
        "outputId": "184720bf-2d31-470a-831a-ba9394f3a5f1"
      },
      "source": [
        "i=100\n",
        "a1=(i>15) and (i<800)\n",
        "a2=(i>15) and (i>800)\n",
        "print(a1)\n",
        "print(a2)\n"
      ],
      "execution_count": 23,
      "outputs": [
        {
          "output_type": "stream",
          "text": [
            "True\n",
            "False\n"
          ],
          "name": "stdout"
        }
      ]
    },
    {
      "cell_type": "code",
      "metadata": {
        "id": "OSstglgcTjvj",
        "colab_type": "code",
        "colab": {
          "base_uri": "https://localhost:8080/",
          "height": 51
        },
        "outputId": "0c7a2975-e684-4839-cfd5-725cf18c09ee"
      },
      "source": [
        "i=100\n",
        "a1=(i>15) or (i<800)\n",
        "a2=(i>15) or (i>800)\n",
        "print(a1)\n",
        "print(a2)"
      ],
      "execution_count": 24,
      "outputs": [
        {
          "output_type": "stream",
          "text": [
            "True\n",
            "True\n"
          ],
          "name": "stdout"
        }
      ]
    },
    {
      "cell_type": "code",
      "metadata": {
        "id": "SQb-i0HuTubV",
        "colab_type": "code",
        "colab": {
          "base_uri": "https://localhost:8080/",
          "height": 68
        },
        "outputId": "32617e9a-5135-4589-dafe-01562db20ef9"
      },
      "source": [
        "i=100\n",
        "a1=(i>15) and (i<800)\n",
        "a2=(i>15) or (i>800)\n",
        "i = not 100\n",
        "print(a1)\n",
        "print(a2)\n",
        "print(i)\n"
      ],
      "execution_count": 25,
      "outputs": [
        {
          "output_type": "stream",
          "text": [
            "True\n",
            "True\n",
            "False\n"
          ],
          "name": "stdout"
        }
      ]
    },
    {
      "cell_type": "code",
      "metadata": {
        "id": "HepiAr16UPyW",
        "colab_type": "code",
        "colab": {}
      },
      "source": [
        ""
      ],
      "execution_count": 0,
      "outputs": []
    },
    {
      "cell_type": "markdown",
      "metadata": {
        "id": "uVp6IsWDUfE-",
        "colab_type": "text"
      },
      "source": [
        "#Control flow statements\n",
        "- conditional statements\n",
        "- loop statements\n"
      ]
    },
    {
      "cell_type": "code",
      "metadata": {
        "id": "NLY0nR__UoO0",
        "colab_type": "code",
        "colab": {}
      },
      "source": [
        ""
      ],
      "execution_count": 0,
      "outputs": []
    },
    {
      "cell_type": "markdown",
      "metadata": {
        "id": "2ppBSKT5UyQL",
        "colab_type": "text"
      },
      "source": [
        "# if else statement\n",
        "## syntax\n",
        "# if Boolean_condition\n",
        "#statements\n",
        "#else:\n",
        "statements"
      ]
    },
    {
      "cell_type": "code",
      "metadata": {
        "id": "_eI8CFSxVPJF",
        "colab_type": "code",
        "colab": {
          "base_uri": "https://localhost:8080/",
          "height": 51
        },
        "outputId": "10695805-cd95-4d5e-9ce4-5244ce63ba8d"
      },
      "source": [
        "# to check a given number is even or odd\n",
        "n = int(input(\"enter a number\"))\n",
        "if n%2 == 0 :\n",
        " print(n,\"is an even number\")\n",
        "else:\n",
        " print(n, \"is an odd number\")"
      ],
      "execution_count": 33,
      "outputs": [
        {
          "output_type": "stream",
          "text": [
            "enter a number812\n",
            "812 is an even number\n"
          ],
          "name": "stdout"
        }
      ]
    },
    {
      "cell_type": "code",
      "metadata": {
        "id": "AedX_6ThWE66",
        "colab_type": "code",
        "colab": {
          "base_uri": "https://localhost:8080/",
          "height": 51
        },
        "outputId": "42599f77-e30a-4ddf-e9d6-8d9b722f0c09"
      },
      "source": [
        "# to check a given number is a multiple of 3 and 5\n",
        "n = int(input(\"Enter a given number\"))\n",
        "if n%3 == 0 and n%5 == 0 :\n",
        "   print(n, \"a multiple of 3 and 5\")\n",
        "else:\n",
        "   print(n, \"not a multiple of 3 and 5\")"
      ],
      "execution_count": 38,
      "outputs": [
        {
          "output_type": "stream",
          "text": [
            "Enter a given number30\n",
            "30 a multiple of 3 and 5\n"
          ],
          "name": "stdout"
        }
      ]
    },
    {
      "cell_type": "code",
      "metadata": {
        "id": "mWQWbWfpXbri",
        "colab_type": "code",
        "colab": {
          "base_uri": "https://localhost:8080/",
          "height": 51
        },
        "outputId": "239f72c5-3383-4a00-d723-2deffec48fe6"
      },
      "source": [
        "# to check a given number is positive or negative or 0\n",
        "n=int(input(\"enter a number\"))\n",
        "if n>0 :\n",
        "  print(n,\"a positive number\")\n",
        "elif n<0 :\n",
        "  print(n, \"negative\")\n",
        "else :\n",
        "  print(n,\"is zero\")"
      ],
      "execution_count": 48,
      "outputs": [
        {
          "output_type": "stream",
          "text": [
            "enter a number-20\n",
            "-20 negative\n"
          ],
          "name": "stdout"
        }
      ]
    },
    {
      "cell_type": "markdown",
      "metadata": {
        "id": "MNvzhaUpbNfl",
        "colab_type": "text"
      },
      "source": [
        "#find the largest number among the 3 given numbers\n"
      ]
    },
    {
      "cell_type": "code",
      "metadata": {
        "id": "_BA4cH7XbUk0",
        "colab_type": "code",
        "colab": {
          "base_uri": "https://localhost:8080/",
          "height": 85
        },
        "outputId": "75885b42-8ce1-4ce6-d6ea-824e4da533db"
      },
      "source": [
        "# to check which is the largest among the 3 given numbers\n",
        "a= int(input(\"enter a number\"))\n",
        "b= int(input(\"enter a number\"))\n",
        "c= int(input(\"enter a number\"))\n",
        "if (a>b and a>c) :\n",
        " print(\"a is the greatest\")\n",
        "elif (b>a and b>c) :\n",
        " print(\"b is the greatest\")\n",
        "else :\n",
        " print(\"c is the greatest\")"
      ],
      "execution_count": 58,
      "outputs": [
        {
          "output_type": "stream",
          "text": [
            "enter a number45\n",
            "enter a number40\n",
            "enter a number85\n",
            "c is the greatest\n"
          ],
          "name": "stdout"
        }
      ]
    },
    {
      "cell_type": "code",
      "metadata": {
        "id": "Lb6TieP9djQP",
        "colab_type": "code",
        "colab": {}
      },
      "source": [
        ""
      ],
      "execution_count": 0,
      "outputs": []
    }
  ]
}